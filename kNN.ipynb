{
 "cells": [
  {
   "cell_type": "code",
   "execution_count": 5,
   "metadata": {},
   "outputs": [],
   "source": [
    "from numpy import *\n",
    "import operator"
   ]
  },
  {
   "cell_type": "code",
   "execution_count": 6,
   "metadata": {},
   "outputs": [],
   "source": [
    "def createDataSet():\n",
    "    group = array([[1.0,1.1],[1.0,1.0],[0,0],[0,0.1]])\n",
    "    labels = ['A','A','B','B']\n",
    "    return group,labels\n"
   ]
  },
  {
   "cell_type": "code",
   "execution_count": 13,
   "metadata": {},
   "outputs": [],
   "source": [
    "def classify0(inX,dataSet,labels,k):\n",
    "    dataSetSize = dataSet.shape[0]  #获取训练集中对象个数，在这个例子中，对象数量为4\n",
    "    diffMat = tile(inX,(dataSetSize,1)) - dataSet  #通过tile进行数组拓展，然后计算数组之差\n",
    "    sqDiffMat = diffMat**2           #计算方差 y = (x1-x2)^2  + (y1-y2)^2\n",
    "    sqDistance = sqDiffMat.sum(axis=1)  #沿着第2轴空间将数据求和，[4,3]的数组将被压缩成 4行数据\n",
    "    distances = sqDistance**0.5      #计算标准差  y = sqrt[y]\n",
    "    sortedDistIndicies = distances.argsort()  #得到结果数据的排序结果\n",
    "\n",
    "    classCount = {}                       #创建一个字典对象\n",
    "\n",
    "    for i in range(k):                  #对前k个结果进行排序处理\n",
    "        voteIlabel = labels[sortedDistIndicies[i]]\n",
    "        classCount[voteIlabel] = classCount.get(voteIlabel,0)+1 #这里使用了字典方法Get，当对象不存在时使用默认值0   \n",
    "\n",
    "    sortedClassCount = sorted(classCount.items(),\n",
    "    key = operator.itemgetter(1),reverse=True)\n",
    "\n",
    "    return sortedClassCount[0][0]"
   ]
  },
  {
   "cell_type": "code",
   "execution_count": 12,
   "metadata": {
    "scrolled": true
   },
   "outputs": [
    {
     "data": {
      "text/plain": [
       "('B', 2)"
      ]
     },
     "execution_count": 12,
     "metadata": {},
     "output_type": "execute_result"
    }
   ],
   "source": [
    "group,labels = createDataSet()\n",
    "datasize = group.shape[0]\n",
    "test = [0,0.2]\n",
    "diffMat = tile(test,(datasize,1)) - group\n",
    "\n",
    "diffMat = diffMat **2\n",
    "sqDistance = diffMat.sum(axis = 1)\n",
    "distance = sqDistance ** 0.5\n",
    "sortedDisIndex = distance.argsort()\n",
    "\n",
    "classCount = {}\n",
    "\n",
    "for i in range(3):\n",
    "    voteLabel = labels[sortedDisIndex[i]]\n",
    "    classCount[voteLabel] = classCount.get(voteLabel,0) +1   \n",
    "    \n",
    "sortedClassCount = sorted(classCount.items(),key = operator.itemgetter(1),reverse = True)\n",
    "\n",
    "sortedClassCount[0]"
   ]
  },
  {
   "cell_type": "markdown",
   "metadata": {},
   "source": [
    "directionary.items将以列表形式返回字典中的所有项\n",
    "operator.itemgetter为函数定义\n",
    "sorted方法可以接收单参数（items）或者多参数（items,key,reverse）\n",
    "    其中key来指定用items中的第几个对象进行排序工作"
   ]
  },
  {
   "cell_type": "code",
   "execution_count": 32,
   "metadata": {},
   "outputs": [],
   "source": [
    "def file2matrix(filename):\n",
    "    fr = open(filename)\n",
    "    arrayOLines = fr.readlines()\n",
    "    numberOfLines = len(arrayOLines)\n",
    "    returnMat = zeros((numberOfLines,3))\n",
    "    classLabelVector = []\n",
    "    index = 0\n",
    "    for line in arrayOLines:\n",
    "        line = line.strip()     #移除字符串首尾空格\n",
    "        listFromLine = line.split('\\t')#依据换行符分隔字符串\n",
    "        returnMat[index,:] = listFromLine[0:3] #数组复制\n",
    "        classLabelVector.append(int(listFromLine[-1]))  #数组拓展\n",
    "        index += 1\n",
    "    return returnMat,classLabelVector"
   ]
  },
  {
   "cell_type": "code",
   "execution_count": 1,
   "metadata": {
    "scrolled": false
   },
   "outputs": [
    {
     "ename": "NameError",
     "evalue": "name 'file2matrix' is not defined",
     "output_type": "error",
     "traceback": [
      "\u001b[1;31m---------------------------------------------------------------------------\u001b[0m",
      "\u001b[1;31mNameError\u001b[0m                                 Traceback (most recent call last)",
      "\u001b[1;32m<ipython-input-1-70b49575ca33>\u001b[0m in \u001b[0;36m<module>\u001b[1;34m()\u001b[0m\n\u001b[0;32m      1\u001b[0m \u001b[1;31m#分离特征数据和标签 分别到 dataMat 和 Labels\u001b[0m\u001b[1;33m\u001b[0m\u001b[1;33m\u001b[0m\u001b[0m\n\u001b[1;32m----> 2\u001b[1;33m \u001b[0mdatingDataMat\u001b[0m\u001b[1;33m,\u001b[0m \u001b[0mdatingLabels\u001b[0m \u001b[1;33m=\u001b[0m \u001b[0mfile2matrix\u001b[0m\u001b[1;33m(\u001b[0m\u001b[1;34m\".\\MLiA_SourceCode\\machinelearninginaction\\Ch02\\datingTestSet2.txt\"\u001b[0m\u001b[1;33m)\u001b[0m\u001b[1;33m\u001b[0m\u001b[0m\n\u001b[0m\u001b[0;32m      3\u001b[0m \u001b[0mdatingLabels\u001b[0m\u001b[1;33m[\u001b[0m\u001b[1;36m0\u001b[0m\u001b[1;33m:\u001b[0m\u001b[1;36m20\u001b[0m\u001b[1;33m]\u001b[0m\u001b[1;33m\u001b[0m\u001b[0m\n",
      "\u001b[1;31mNameError\u001b[0m: name 'file2matrix' is not defined"
     ]
    }
   ],
   "source": [
    "#分离特征数据和标签 分别到 dataMat 和 Labels\n",
    "datingDataMat, datingLabels = file2matrix(\".\\MLiA_SourceCode\\machinelearninginaction\\Ch02\\datingTestSet2.txt\")\n",
    "datingLabels[0:20]"
   ]
  },
  {
   "cell_type": "code",
   "execution_count": 27,
   "metadata": {},
   "outputs": [],
   "source": [
    "fr = open(\".\\MLiA_SourceCode\\machinelearninginaction\\Ch02\\datingTestSet2.txt\")\n",
    "arrayOLines = fr.readlines()\n",
    "numberOfLines = len(arrayOLines)\n",
    "ListfromLine = arrayOLines[0].strip().split('\\t')"
   ]
  },
  {
   "cell_type": "code",
   "execution_count": 29,
   "metadata": {},
   "outputs": [
    {
     "data": {
      "text/plain": [
       "['40920', '8.326976', '0.953952']"
      ]
     },
     "execution_count": 29,
     "metadata": {},
     "output_type": "execute_result"
    }
   ],
   "source": [
    "ListfromLine[0:3]"
   ]
  },
  {
   "cell_type": "code",
   "execution_count": 25,
   "metadata": {},
   "outputs": [],
   "source": [
    "returnMat = zeros((numberOfLines,3))"
   ]
  },
  {
   "cell_type": "code",
   "execution_count": null,
   "metadata": {},
   "outputs": [],
   "source": []
  }
 ],
 "metadata": {
  "kernelspec": {
   "display_name": "Python 3",
   "language": "python",
   "name": "python3"
  },
  "language_info": {
   "codemirror_mode": {
    "name": "ipython",
    "version": 3
   },
   "file_extension": ".py",
   "mimetype": "text/x-python",
   "name": "python",
   "nbconvert_exporter": "python",
   "pygments_lexer": "ipython3",
   "version": "3.7.0"
  }
 },
 "nbformat": 4,
 "nbformat_minor": 2
}
